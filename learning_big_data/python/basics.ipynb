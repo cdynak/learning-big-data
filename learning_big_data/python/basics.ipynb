{
 "cells": [
  {
   "cell_type": "markdown",
   "metadata": {
    "slideshow": {
     "slide_type": "slide"
    }
   },
   "source": [
    "# Context Managers in Python?\n",
    "\n",
    "Or on how to manage your resources correctly"
   ]
  },
  {
   "cell_type": "code",
   "execution_count": 5,
   "metadata": {
    "slideshow": {
     "slide_type": "slide"
    }
   },
   "outputs": [],
   "source": [
    "class ReinventedOpen():\n",
    "\n",
    "    def __init__(self, filename, mode):\n",
    "        self.filename = filename\n",
    "        self.mode = mode\n",
    "\n",
    "    def __enter__(self):\n",
    "        self.open_file = open(self.filename, self.mode)\n",
    "\n",
    "        return self.open_file\n",
    "\n",
    "    def __exit__(self, *args):\n",
    "        self.open_file.close()\n",
    "\n",
    "with ReinventedOpen('hello.txt', 'r') as f:\n",
    "    print(f.read())\n",
    "    \n",
    "# #python #class #objects #OOP #ObjectOrientedProgramming"
   ]
  },
  {
   "cell_type": "markdown",
   "metadata": {
    "slideshow": {
     "slide_type": "slide"
    }
   },
   "source": [
    "# Classes in Python?\n",
    "\n",
    "How strict or rather forgiving are they?"
   ]
  },
  {
   "cell_type": "code",
   "execution_count": 6,
   "metadata": {
    "slideshow": {
     "slide_type": "slide"
    }
   },
   "outputs": [],
   "source": [
    "class Car:\n",
    "\n",
    "    def __init__(self, name):\n",
    "        self.name = name\n",
    "\n",
    "    def start(self):\n",
    "        print(f'{self.name} started')\n",
    "        \n",
    "# #python #class #objects #OOP #ObjectOrientedProgramming"
   ]
  },
  {
   "cell_type": "markdown",
   "metadata": {
    "slideshow": {
     "slide_type": "slide"
    }
   },
   "source": [
    "# Iterables and enumeration in Python\n",
    "\n",
    "How one can make it more human friendly"
   ]
  },
  {
   "cell_type": "markdown",
   "metadata": {
    "slideshow": {
     "slide_type": "slide"
    }
   },
   "source": [
    "Without enumeration:\n",
    "\n",
    "```python\n",
    "names = ['Kasia', 'Joanna', 'Michał']\n",
    "\n",
    "for name in names:\n",
    "    print(name)\n",
    "\n",
    "```\n",
    "\n",
    "With enumeration:\n",
    "\n",
    "```python\n",
    "names = ['Kasia', 'Joanna', 'Michał']\n",
    "\n",
    "for i, name in enumerate(names):\n",
    "    print(f'{name} you are number {i}')\n",
    "\n",
    "# #python #forLoop #enumerate  \n",
    "```"
   ]
  }
 ],
 "metadata": {
  "celltoolbar": "Slideshow",
  "kernelspec": {
   "display_name": "Python 3",
   "language": "python",
   "name": "python3"
  },
  "language_info": {
   "codemirror_mode": {
    "name": "ipython",
    "version": 3
   },
   "file_extension": ".py",
   "mimetype": "text/x-python",
   "name": "python",
   "nbconvert_exporter": "python",
   "pygments_lexer": "ipython3",
   "version": "3.6.5"
  }
 },
 "nbformat": 4,
 "nbformat_minor": 2
}
