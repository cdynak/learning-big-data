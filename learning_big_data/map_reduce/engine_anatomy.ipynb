{
 "cells": [
  {
   "cell_type": "markdown",
   "metadata": {
    "slideshow": {
     "slide_type": "slide"
    }
   },
   "source": [
    "# Understanding `Context` used in our simple Map Reduce Engine"
   ]
  },
  {
   "cell_type": "code",
   "execution_count": 3,
   "metadata": {
    "slideshow": {
     "slide_type": "slide"
    }
   },
   "outputs": [],
   "source": [
    "class Context:\n",
    "\n",
    "    def __init__(self):\n",
    "        self.events = []\n",
    "\n",
    "    def write(self, key, value):\n",
    "        self.events.append([key, value])\n",
    "\n",
    "    def collect_to_dict(self):\n",
    "        collected = {}\n",
    "        for key, value in self.events:\n",
    "            collected.setdefault(key, [])\n",
    "            collected[key].append(value)\n",
    "\n",
    "        return collected    \n",
    "\n",
    "# #python #mapReduce #context"
   ]
  },
  {
   "cell_type": "markdown",
   "metadata": {
    "slideshow": {
     "slide_type": "slide"
    }
   },
   "source": [
    "# The anatomy of `Job` used in our simple Map Reduce Engine - constructor"
   ]
  },
  {
   "cell_type": "code",
   "execution_count": 4,
   "metadata": {
    "slideshow": {
     "slide_type": "slide"
    }
   },
   "outputs": [],
   "source": [
    "import requests\n",
    "\n",
    "\n",
    "class Job:\n",
    "\n",
    "    def __init__(\n",
    "            self, \n",
    "            input_uris, \n",
    "            record_reader, \n",
    "            mapper, \n",
    "            reducer, \n",
    "            output_format=None):\n",
    "\n",
    "        self.input_uris = input_uris\n",
    "        self.record_reader = record_reader\n",
    "        self.mapper = mapper\n",
    "        self.reducer = reducer\n",
    "        self.output_format = output_format or default_output_format\n",
    "\n",
    "    # `def run(...)` goes here\n",
    "    \n",
    "    \n",
    "# #python #mapReduce #job"
   ]
  },
  {
   "cell_type": "markdown",
   "metadata": {
    "slideshow": {
     "slide_type": "slide"
    }
   },
   "source": [
    "# The anatomy of `Job` used in our simple Map Reduce Engine - `run`"
   ]
  },
  {
   "cell_type": "code",
   "execution_count": 5,
   "metadata": {
    "slideshow": {
     "slide_type": "slide"
    }
   },
   "outputs": [],
   "source": [
    "import requests\n",
    "\n",
    "\n",
    "class Job:\n",
    "\n",
    "    # `def __init__(...)` goes here\n",
    "    \n",
    "    def run(self):\n",
    "        # ...\n",
    "        # -- record_reader\n",
    "        mapper_context = Context()\n",
    "        for input_uri in self.input_uris:\n",
    "            response = requests.get(input_uri, stream=True)\n",
    "\n",
    "            records = self.record_reader(response)\n",
    "\n",
    "            # -- map tasks\n",
    "            for record in records:\n",
    "                self.mapper(\n",
    "                    key=record[0], value=record[1], context=mapper_context)\n",
    "\n",
    "        # -- reduce task\n",
    "        reducer_context = Context()\n",
    "        for key, values in mapper_context.collect_to_dict().items():\n",
    "            self.reducer(key, values, reducer_context)\n",
    "\n",
    "        # -- output format\n",
    "        return self.output_format(reducer_context.events)\n",
    "    \n",
    "# #python #mapReduce #job"
   ]
  },
  {
   "cell_type": "markdown",
   "metadata": {
    "slideshow": {
     "slide_type": "slide"
    }
   },
   "source": [
    "# The anatomy of the `output format` in our simple Map Reduce Engine"
   ]
  },
  {
   "cell_type": "code",
   "execution_count": 6,
   "metadata": {
    "slideshow": {
     "slide_type": "slide"
    }
   },
   "outputs": [],
   "source": [
    "import os\n",
    "from uuid import uuid4\n",
    "\n",
    "\n",
    "def default_output_format(events):\n",
    "    try:\n",
    "        os.makedirs('./.outputs/')\n",
    "\n",
    "    except FileExistsError:\n",
    "        pass\n",
    "\n",
    "    output_path = f'./.outputs/{uuid4()}.txt'\n",
    "    with open(output_path, 'w') as f:\n",
    "        output = '\\n'.join([\n",
    "            '{0},{1}'.format(*event)\n",
    "            for event in events\n",
    "        ])\n",
    "        f.write(output)\n",
    "\n",
    "    return output_path\n",
    "\n",
    "# #python #mapReduce #outputFormat"
   ]
  }
 ],
 "metadata": {
  "celltoolbar": "Slideshow",
  "kernelspec": {
   "display_name": "Python 3",
   "language": "python",
   "name": "python3"
  },
  "language_info": {
   "codemirror_mode": {
    "name": "ipython",
    "version": 3
   },
   "file_extension": ".py",
   "mimetype": "text/x-python",
   "name": "python",
   "nbconvert_exporter": "python",
   "pygments_lexer": "ipython3",
   "version": "3.6.5"
  }
 },
 "nbformat": 4,
 "nbformat_minor": 2
}
