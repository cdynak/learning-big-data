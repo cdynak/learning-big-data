{
 "cells": [
  {
   "cell_type": "code",
   "execution_count": 5,
   "metadata": {},
   "outputs": [],
   "source": [
    "import ipytest\n",
    "import ipytest.magics\n",
    "\n",
    "__file__ = 'summarization.ipynb'"
   ]
  },
  {
   "cell_type": "code",
   "execution_count": 7,
   "metadata": {},
   "outputs": [],
   "source": [
    "def f():\n",
    "    return 2"
   ]
  },
  {
   "cell_type": "code",
   "execution_count": 13,
   "metadata": {},
   "outputs": [
    {
     "name": "stdout",
     "output_type": "stream",
     "text": [
      "======================================== test session starts ========================================\n",
      "platform linux -- Python 3.6.5, pytest-3.8.2, py-1.6.0, pluggy-0.7.1\n",
      "rootdir: /home/maciej/projects/learning-big-data/learning_big_data/map_reduce, inifile:\n",
      "collected 1 item\n",
      "\n",
      "summarization.py F                                                                            [100%]\n",
      "\n",
      "============================================= FAILURES ==============================================\n",
      "______________________________________________ test_it ______________________________________________\n",
      "\n",
      "    def test_it():\n",
      ">       assert 1 == f()\n",
      "E       assert 1 == 2\n",
      "E        +  where 2 = f()\n",
      "\n",
      "<ipython-input-13-927bf6b0077f>:3: AssertionError\n",
      "===================================== 1 failed in 0.05 seconds ======================================\n"
     ]
    }
   ],
   "source": [
    "%%run_pytest[clean]\n",
    "\n",
    "def test_it():\n",
    "    assert 1 == f()"
   ]
  },
  {
   "cell_type": "code",
   "execution_count": 14,
   "metadata": {},
   "outputs": [
    {
     "name": "stdout",
     "output_type": "stream",
     "text": [
      "======================================== test session starts ========================================\n",
      "platform linux -- Python 3.6.5, pytest-3.8.2, py-1.6.0, pluggy-0.7.1\n",
      "rootdir: /home/maciej/projects/learning-big-data/learning_big_data/map_reduce, inifile:\n",
      "collected 1 item\n",
      "\n",
      "summarization.py F                                                                            [100%]\n",
      "\n",
      "============================================= FAILURES ==============================================\n",
      "_____________________________________________ test_it2 ______________________________________________\n",
      "\n",
      "    def test_it2():\n",
      ">       assert 1 == f()\n",
      "E       assert 1 == 2\n",
      "E        +  where 2 = f()\n",
      "\n",
      "<ipython-input-14-ae232dd15f4c>:3: AssertionError\n",
      "===================================== 1 failed in 0.04 seconds ======================================\n"
     ]
    }
   ],
   "source": [
    "%%run_pytest[clean]\n",
    "\n",
    "def test_it2():\n",
    "    assert 1 == f()"
   ]
  },
  {
   "cell_type": "code",
   "execution_count": null,
   "metadata": {},
   "outputs": [],
   "source": []
  }
 ],
 "metadata": {
  "kernelspec": {
   "display_name": "Python 3",
   "language": "python",
   "name": "python3"
  },
  "language_info": {
   "codemirror_mode": {
    "name": "ipython",
    "version": 3
   },
   "file_extension": ".py",
   "mimetype": "text/x-python",
   "name": "python",
   "nbconvert_exporter": "python",
   "pygments_lexer": "ipython3",
   "version": "3.6.5"
  }
 },
 "nbformat": 4,
 "nbformat_minor": 2
}
