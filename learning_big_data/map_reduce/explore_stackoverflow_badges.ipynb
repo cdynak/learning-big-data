{
 "cells": [
  {
   "cell_type": "markdown",
   "metadata": {
    "slideshow": {
     "slide_type": "slide"
    }
   },
   "source": [
    "# Fetch and process data using Jupyter Notebook\n",
    "\n",
    "Jupyter Notebook - multi-lingual environment for making things done"
   ]
  },
  {
   "cell_type": "code",
   "execution_count": 1,
   "metadata": {
    "slideshow": {
     "slide_type": "slide"
    }
   },
   "outputs": [],
   "source": [
    "from glob import glob\n",
    "import shutil\n",
    "import os\n",
    "import re\n",
    "\n",
    "import requests\n",
    "import xmltodict"
   ]
  },
  {
   "cell_type": "markdown",
   "metadata": {
    "slideshow": {
     "slide_type": "slide"
    }
   },
   "source": [
    "# Fetching Badge Data\n",
    "\n",
    "SOURCE: https://archive.org/download/stackexchange\n",
    "\n",
    "DATA EXPLORER: http://data.stackexchange.com/stackoverflow/queries (https://github.com/StackExchange/StackExchange.DataExplorer)\n",
    "\n",
    "Stackoverflow badge data were split into chunk files of size approx 12 MB (each containing around 100k badge rows). They are all accessible via the `https://s3.eu-central-1.amazonaws.com/learning.big.data/stackoverflow-badges/<i>.xml` where `i` takes values from `0` to `286` to more than 3 GB of data. "
   ]
  },
  {
   "cell_type": "code",
   "execution_count": 4,
   "metadata": {
    "slideshow": {
     "slide_type": "slide"
    }
   },
   "outputs": [
    {
     "name": "stdout",
     "output_type": "stream",
     "text": [
      "#!/bin/bash\n",
      "\n",
      "TEMP_DIR=$(mktemp -d)\n",
      "cd $TEMP_DIR\n",
      "\n",
      "echo \">> DOWNLOADING BADGES\"\n",
      "wget https://archive.org/download/stackexchange/stackoverflow.com-Badges.7z\n",
      "\n",
      "echo \">> EXTRACTING BADGES\"\n",
      "dtrx -o -n stackoverflow.com-Badges.7z\n",
      "\n",
      "# -- remove last and 1st two lines\n",
      "cd stackoverflow.com-Badges\n",
      "echo \">> CLEAN BADGES\"\n",
      "sed '$ d' Badges.xml > TempBadges.xml\n",
      "sed '1,2d' TempBadges.xml > Badges.xml\n",
      "\n",
      "# -- split into manageable chunks\n",
      "echo \">> SPLIT BADGES\"\n",
      "split --lines 100000 --additional-suffix=.xml Badges.xml\n",
      "\n",
      "# -- remove temporary stuff\n",
      "echo \">> CLEAN ARTEFACTS\"\n",
      "cd ..\n",
      "rm stackoverflow.com-Badges/TempBadges.xml stackoverflow.com-Badges/Badges.xml stackoverflow.com-Badges.7z\n",
      "\n",
      "echo \"files saved in ${TEMP_DIR}\"\n"
     ]
    }
   ],
   "source": [
    "%%bash\n",
    "cat tools/download_and_chunks_badges.sh"
   ]
  },
  {
   "cell_type": "code",
   "execution_count": 6,
   "metadata": {
    "slideshow": {
     "slide_type": "slide"
    }
   },
   "outputs": [],
   "source": [
    "# -- rename files to prepare them for the S3 upload\n",
    "for i, path in enumerate(glob('/tmp/tmp.gEG1iKNNPu/stackoverflow.com-Badges/*.xml')):\n",
    "    if len(os.path.basename(path)) == 7:        \n",
    "        numerical_path = re.sub(r'([a-z]+)\\.xml', f'{i}.xml', path)\n",
    "        shutil.move(path, numerical_path)        "
   ]
  },
  {
   "cell_type": "code",
   "execution_count": 5,
   "metadata": {
    "slideshow": {
     "slide_type": "slide"
    }
   },
   "outputs": [],
   "source": [
    "# use s3cmd for uploading"
   ]
  },
  {
   "cell_type": "code",
   "execution_count": 7,
   "metadata": {
    "slideshow": {
     "slide_type": "slide"
    }
   },
   "outputs": [],
   "source": [
    "response = requests.get(\n",
    "    'https://s3.eu-central-1.amazonaws.com/learning.big.data/stackoverflow-badges/0.xml', \n",
    "    stream=True)\n",
    "\n",
    "badges = []\n",
    "for line in response.iter_lines():\n",
    "\n",
    "    # -- filter out keep-alive new lines\n",
    "    if line:\n",
    "        badges.append(dict(xmltodict.parse(line.decode('utf-8'))['row']))"
   ]
  },
  {
   "cell_type": "code",
   "execution_count": 8,
   "metadata": {
    "slideshow": {
     "slide_type": "slide"
    }
   },
   "outputs": [
    {
     "data": {
      "text/plain": [
       "100000"
      ]
     },
     "execution_count": 8,
     "metadata": {},
     "output_type": "execute_result"
    }
   ],
   "source": [
    "len(badges)"
   ]
  },
  {
   "cell_type": "code",
   "execution_count": 9,
   "metadata": {
    "slideshow": {
     "slide_type": "slide"
    }
   },
   "outputs": [
    {
     "data": {
      "text/plain": [
       "[{'@Id': '26066242',\n",
       "  '@UserId': '8125167',\n",
       "  '@Name': 'Supporter',\n",
       "  '@Date': '2017-11-28T19:34:25.047',\n",
       "  '@Class': '3',\n",
       "  '@TagBased': 'False'},\n",
       " {'@Id': '26066243',\n",
       "  '@UserId': '9006638',\n",
       "  '@Name': 'Supporter',\n",
       "  '@Date': '2017-11-28T19:34:25.047',\n",
       "  '@Class': '3',\n",
       "  '@TagBased': 'False'}]"
      ]
     },
     "execution_count": 9,
     "metadata": {},
     "output_type": "execute_result"
    }
   ],
   "source": [
    "badges[:2]"
   ]
  },
  {
   "cell_type": "markdown",
   "metadata": {
    "slideshow": {
     "slide_type": "slide"
    }
   },
   "source": [
    "## What Badge Names do we have?"
   ]
  },
  {
   "cell_type": "code",
   "execution_count": 15,
   "metadata": {
    "slideshow": {
     "slide_type": "slide"
    }
   },
   "outputs": [
    {
     "data": {
      "text/plain": [
       "[('Popular Question', 14687),\n",
       " ('Informed', 9557),\n",
       " ('Notable Question', 7466),\n",
       " ('Editor', 7230),\n",
       " ('Yearling', 5903),\n",
       " ('Student', 5782),\n",
       " ('Scholar', 4900),\n",
       " ('Custodian', 4357),\n",
       " ('Nice Answer', 3570),\n",
       " ('Teacher', 3568)]"
      ]
     },
     "execution_count": 15,
     "metadata": {},
     "output_type": "execute_result"
    }
   ],
   "source": [
    "counts = {}\n",
    "for badge in badges:\n",
    "    counts.setdefault(badge['@Name'], 0)\n",
    "    counts[badge['@Name']] += 1\n",
    "\n",
    "sorted(counts.items(), key=lambda x: x[1], reverse=True)[:10]"
   ]
  }
 ],
 "metadata": {
  "celltoolbar": "Slideshow",
  "kernelspec": {
   "display_name": "Python 3",
   "language": "python",
   "name": "python3"
  },
  "language_info": {
   "codemirror_mode": {
    "name": "ipython",
    "version": 3
   },
   "file_extension": ".py",
   "mimetype": "text/x-python",
   "name": "python",
   "nbconvert_exporter": "python",
   "pygments_lexer": "ipython3",
   "version": "3.6.5"
  }
 },
 "nbformat": 4,
 "nbformat_minor": 2
}
