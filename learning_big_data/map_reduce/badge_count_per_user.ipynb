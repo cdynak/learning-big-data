{
 "cells": [
  {
   "cell_type": "code",
   "execution_count": 1,
   "metadata": {},
   "outputs": [],
   "source": [
    "from glob import glob\n",
    "from uuid import uuid4\n",
    "\n",
    "import requests\n",
    "import xmltodict\n",
    "\n",
    "import engine\n",
    "\n",
    "\n",
    "get_stackoverflow_badges_uri = (\n",
    "    'https://s3.eu-central-1.amazonaws.com/learning.big.data/stackoverflow-badges/{}'.format)"
   ]
  },
  {
   "cell_type": "markdown",
   "metadata": {},
   "source": [
    "## Records Reader"
   ]
  },
  {
   "cell_type": "code",
   "execution_count": 2,
   "metadata": {},
   "outputs": [],
   "source": [
    "def record_reader(response):\n",
    "    records = []\n",
    "    for line in response.iter_lines():\n",
    "        if line:\n",
    "            record = dict(xmltodict.parse(line.decode('utf-8'))['row'])        \n",
    "            records.append((\n",
    "                record['@Id'],\n",
    "                {k.replace('@', '').lower(): v for k, v in record.items()}\n",
    "            ))\n",
    "            \n",
    "    return records"
   ]
  },
  {
   "cell_type": "code",
   "execution_count": 3,
   "metadata": {},
   "outputs": [
    {
     "data": {
      "text/plain": [
       "[('26066242',\n",
       "  {'id': '26066242',\n",
       "   'userid': '8125167',\n",
       "   'name': 'Supporter',\n",
       "   'date': '2017-11-28T19:34:25.047',\n",
       "   'class': '3',\n",
       "   'tagbased': 'False'}),\n",
       " ('26066243',\n",
       "  {'id': '26066243',\n",
       "   'userid': '9006638',\n",
       "   'name': 'Supporter',\n",
       "   'date': '2017-11-28T19:34:25.047',\n",
       "   'class': '3',\n",
       "   'tagbased': 'False'})]"
      ]
     },
     "execution_count": 3,
     "metadata": {},
     "output_type": "execute_result"
    }
   ],
   "source": [
    "# -- test `record_reader`\n",
    "response = requests.get(get_stackoverflow_badges_uri('0.xml'), stream=True)\n",
    "\n",
    "records = record_reader(response)\n",
    "records[:2]"
   ]
  },
  {
   "cell_type": "markdown",
   "metadata": {},
   "source": [
    "## Mapper"
   ]
  },
  {
   "cell_type": "code",
   "execution_count": 4,
   "metadata": {},
   "outputs": [],
   "source": [
    "def mapper(key, value, context):\n",
    "    context.write(value['userid'], value['name'])"
   ]
  },
  {
   "cell_type": "code",
   "execution_count": 5,
   "metadata": {},
   "outputs": [
    {
     "data": {
      "text/plain": [
       "[['8125167', 'Supporter'],\n",
       " ['9006638', 'Supporter'],\n",
       " ['4892968', 'Supporter'],\n",
       " ['3204673', 'Supporter'],\n",
       " ['1108484', 'Taxonomist'],\n",
       " ['3203282', 'Teacher'],\n",
       " ['3926187', 'Teacher'],\n",
       " ['4134228', 'Teacher'],\n",
       " ['8474041', 'Teacher'],\n",
       " ['9019981', 'Informed']]"
      ]
     },
     "execution_count": 5,
     "metadata": {},
     "output_type": "execute_result"
    }
   ],
   "source": [
    "# -- test mapper\n",
    "context = engine.Context()\n",
    "for record in records[:10]:\n",
    "    mapper(*record, context=context)\n",
    "    \n",
    "context.events"
   ]
  },
  {
   "cell_type": "markdown",
   "metadata": {},
   "source": [
    "## Reducer"
   ]
  },
  {
   "cell_type": "code",
   "execution_count": 10,
   "metadata": {},
   "outputs": [],
   "source": [
    "def reducer(key, values, context):\n",
    "    counts = {}\n",
    "    for value in values:\n",
    "        counts.setdefault(value, 0)\n",
    "        counts[value] += 1\n",
    "        \n",
    "    context.write(key, counts)"
   ]
  },
  {
   "cell_type": "code",
   "execution_count": 12,
   "metadata": {},
   "outputs": [
    {
     "data": {
      "text/plain": [
       "[['9019981', {'Teacher': 2, 'Informed': 1}]]"
      ]
     },
     "execution_count": 12,
     "metadata": {},
     "output_type": "execute_result"
    }
   ],
   "source": [
    "# -- test reducer\n",
    "context = engine.Context()\n",
    "reducer('9019981', ['Teacher', 'Informed', 'Teacher'], context)\n",
    "\n",
    "context.events"
   ]
  },
  {
   "cell_type": "code",
   "execution_count": 13,
   "metadata": {},
   "outputs": [
    {
     "data": {
      "text/plain": [
       "'./.outputs/cefd6403-26ec-4adf-a4d3-2d6c9793ac29.txt'"
      ]
     },
     "execution_count": 13,
     "metadata": {},
     "output_type": "execute_result"
    }
   ],
   "source": [
    "engine.Job(\n",
    "    input_uris=[\n",
    "        get_stackoverflow_badges_uri('10.xml'),\n",
    "        get_stackoverflow_badges_uri('11.xml'),\n",
    "        get_stackoverflow_badges_uri('12.xml'),        \n",
    "    ], \n",
    "    record_reader=record_reader,\n",
    "    mapper=mapper, \n",
    "    reducer=reducer).run()"
   ]
  },
  {
   "cell_type": "code",
   "execution_count": 14,
   "metadata": {},
   "outputs": [
    {
     "name": "stdout",
     "output_type": "stream",
     "text": [
      "486228,{'Nice Answer': 1, 'Yearling': 1, 'Revival': 1, 'Enthusiast': 1}\r\n",
      "572,{'Nice Question': 5, 'Popular Question': 1, 'Notable Question': 3, 'Favorite Question': 1, 'Great Question': 1}\r\n",
      "468746,{'Popular Question': 1, 'Nice Question': 1, 'Peer Pressure': 1}\r\n",
      "915824,{'Popular Question': 1}\r\n",
      "666891,{'Popular Question': 2}\r\n",
      "758116,{'Popular Question': 1}\r\n",
      "804626,{'Student': 1}\r\n",
      "778388,{'Supporter': 1, 'Editor': 1, 'Student': 1}\r\n",
      "1867931,{'Teacher': 1}\r\n",
      "594572,{'Teacher': 1}\r\n"
     ]
    }
   ],
   "source": [
    "!head -n 10 ./.outputs/cefd6403-26ec-4adf-a4d3-2d6c9793ac29.txt"
   ]
  }
 ],
 "metadata": {
  "kernelspec": {
   "display_name": "Python 3",
   "language": "python",
   "name": "python3"
  },
  "language_info": {
   "codemirror_mode": {
    "name": "ipython",
    "version": 3
   },
   "file_extension": ".py",
   "mimetype": "text/x-python",
   "name": "python",
   "nbconvert_exporter": "python",
   "pygments_lexer": "ipython3",
   "version": "3.6.5"
  }
 },
 "nbformat": 4,
 "nbformat_minor": 2
}
