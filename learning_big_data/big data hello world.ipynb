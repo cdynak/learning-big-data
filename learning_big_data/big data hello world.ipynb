{
 "cells": [
  {
   "cell_type": "code",
   "execution_count": 9,
   "metadata": {},
   "outputs": [
    {
     "name": "stderr",
     "output_type": "stream",
     "text": [
      "                          ok :-): 100%|█████████████████████████████████████████████████████████████"
     ]
    },
    {
     "name": "stdout",
     "output_type": "stream",
     "text": [
      "\n",
      "################################\n",
      "################################\n",
      "\n",
      "Welcome is the World of Big Data\n",
      "\n",
      "################################\n",
      "################################    \n",
      "\n"
     ]
    },
    {
     "name": "stderr",
     "output_type": "stream",
     "text": [
      "\n"
     ]
    }
   ],
   "source": [
    "import time\n",
    "import textwrap\n",
    "\n",
    "from tqdm import tqdm\n",
    "\n",
    "\n",
    "comments = [\n",
    "    {'text': 'let\\'s start some calculations', 'sleep': 2},\n",
    "    {'text': 'fetching data', 'sleep': 3},\n",
    "    {'text': 'still fetching data', 'sleep': 5},\n",
    "    {'text': 'yup still fetching data', 'sleep': 6},\n",
    "    {'text': 'ok starting some calculations', 'sleep': 6},\n",
    "    {'text': 'calculating', 'sleep': 6},\n",
    "    {'text': 'still calculating', 'sleep': 6},    \n",
    "    {'text': 'and again still calculating', 'sleep': 6},    \n",
    "    {'text': 'please wait', 'sleep': 2},\n",
    "    {'text': 'just a litte bit more', 'sleep': 6},\n",
    "    {'text': 'yes this is how it feels', 'sleep': 5},\n",
    "    {'text': 'to work in big data', 'sleep': 5},\n",
    "    {'text': 'still interested?!', 'sleep': 5},\n",
    "    {'text': 'are you sure?!', 'sleep': 5},\n",
    "    {'text': 'ok :-)', 'sleep': 3}, \n",
    "]\n",
    "\n",
    "pbar = tqdm(comments, bar_format='{l_bar}{bar}', ncols=100)\n",
    "for comment in pbar:\n",
    "    pbar.set_description(comment['text'].rjust(32))\n",
    "    time.sleep(comment['sleep'])\n",
    "    \n",
    "print(textwrap.dedent('''\n",
    "    ################################\n",
    "    ################################\n",
    "\n",
    "    Welcome is the World of Big Data\n",
    "\n",
    "    ################################\n",
    "    ################################    \n",
    "'''))"
   ]
  },
  {
   "cell_type": "code",
   "execution_count": null,
   "metadata": {},
   "outputs": [],
   "source": []
  }
 ],
 "metadata": {
  "kernelspec": {
   "display_name": "Python 3",
   "language": "python",
   "name": "python3"
  },
  "language_info": {
   "codemirror_mode": {
    "name": "ipython",
    "version": 3
   },
   "file_extension": ".py",
   "mimetype": "text/x-python",
   "name": "python",
   "nbconvert_exporter": "python",
   "pygments_lexer": "ipython3",
   "version": "3.6.5"
  }
 },
 "nbformat": 4,
 "nbformat_minor": 2
}
